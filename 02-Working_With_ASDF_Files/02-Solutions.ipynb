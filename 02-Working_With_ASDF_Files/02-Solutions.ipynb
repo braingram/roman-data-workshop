{
 "cells": [
  {
   "cell_type": "markdown",
   "id": "14199d87",
   "metadata": {},
   "source": [
    "### Solutions for 02-Working_with_ASDF_Files"
   ]
  },
  {
   "cell_type": "markdown",
   "id": "b6eb18c8",
   "metadata": {},
   "source": [
    "**Exercise 1:**"
   ]
  },
  {
   "cell_type": "code",
   "execution_count": 1,
   "id": "451830c9",
   "metadata": {},
   "outputs": [],
   "source": [
    "import asdf"
   ]
  },
  {
   "cell_type": "markdown",
   "id": "d78dde36",
   "metadata": {},
   "source": [
    "**Read the file and use the `info` method to look at the contents**.\n",
    "\n",
    "`info` has arguments which control the behavior. Use the defaults to look at the contents of the file."
   ]
  },
  {
   "cell_type": "code",
   "execution_count": 2,
   "id": "6b67338a",
   "metadata": {
    "tags": [
     "raises-exception"
    ]
   },
   "outputs": [],
   "source": [
    "af = asdf.open('../data/r0000101001001001001_0001_wfi01_cal.asdf')"
   ]
  },
  {
   "cell_type": "code",
   "execution_count": 3,
   "id": "8819736d",
   "metadata": {
    "tags": [
     "raises-exception"
    ]
   },
   "outputs": [
    {
     "name": "stdout",
     "output_type": "stream",
     "text": [
      "root (AsdfObject)\n",
      "├─asdf_library (Software)\n",
      "│ ├─author (str): The ASDF Developers\n",
      "│ ├─homepage (str): http://github.com/asdf-format/asdf\n",
      "│ ├─name (str): asdf\n",
      "│ └─version (str): 4.1.0\n",
      "├─history (dict)\n",
      "│ └─extensions (list)\n",
      "│   ├─[0] (ExtensionMetadata)\n",
      "│   │ ├─extension_class (str): asdf.extension._manifest.ManifestExtension\n",
      "│   │ ├─extension_uri (str): asdf://asdf-format.org/core/extensions/core-1.6.0\n",
      "│   │ ├─manifest_software (Software) ...\n",
      "│   │ └─software (Software) ...\n",
      "│   ├─[1] (ExtensionMetadata)\n",
      "│   │ ├─extension_class (str): asdf.extension._manifest.ManifestExtension\n",
      "│   │ ├─extension_uri (str): asdf://asdf-format.org/astronomy/gwcs/extensions/gwcs-1.4.0\n",
      "│   │ ├─manifest_software (Software) ...\n",
      "│   │ └─software (Software) ...\n",
      "│   ├─[2] (ExtensionMetadata)\n",
      "│   │ ├─extension_class (str): asdf.extension._manifest.ManifestExtension\n",
      "│   │ ├─extension_uri (str): asdf://astropy.org/astropy/extensions/units-1.0.0\n",
      "│   │ └─software (Software) ...\n",
      "│   ├─[3] (ExtensionMetadata)\n",
      "│   │ ├─extension_class (str): asdf.extension._manifest.ManifestExtension\n",
      "│   │ ├─extension_uri (str): asdf://stsci.edu/datamodels/roman/extensions/static-1.0.0\n",
      "│   │ ├─manifest_software (Software) ...\n",
      "│   │ └─software (Software) ...\n",
      "│   ├─[4] (ExtensionMetadata)\n",
      "│   │ ├─extension_class (str): asdf.extension._manifest.ManifestExtension\n",
      "│   │ ├─extension_uri (str): asdf://asdf-format.org/astronomy/extensions/astronomy-1.0.0\n",
      "│   │ ├─manifest_software (Software) ...\n",
      "│   │ └─software (Software) ...\n",
      "│   ├─[5] (ExtensionMetadata)\n",
      "│   │ ├─extension_class (str): asdf.extension._manifest.ManifestExtension\n",
      "│   │ ├─extension_uri (str): asdf://asdf-format.org/transform/extensions/transform-1.6.0\n",
      "│   │ ├─manifest_software (Software) ...\n",
      "│   │ └─software (Software) ...\n",
      "│   └─[6] (ExtensionMetadata)\n",
      "│     ├─extension_class (str): asdf.extension._manifest.ManifestExtension\n",
      "│     ├─extension_uri (str): asdf://asdf-format.org/astronomy/coordinates/extensions/coordinates-1.0.0\n",
      "│     ├─manifest_software (Software) ...\n",
      "│     └─software (Software) ...\n",
      "└─roman (WfiImage) # Level 2 (L2) Calibrated Roman Wide Field Instrument (WFI) Rate Image.\n",
      "  ├─meta (dict)\n",
      "  │ ├─cal_logs (CalLogs) # Calibration Log Messages\n",
      "  │ │ ├─0 (str): 2025-09-08T22:19:57.975Z :: stpipe.ExposurePipeline :: INFO :: Step ExposurePipeline runnin (truncated)\n",
      "  │ │ ├─1 (str)\n",
      "  │ │ ├─2 (str): 2025-09-08T22:19:58.036Z :: stpipe.ExposurePipeline :: INFO :: Prefetching reference files  (truncated)\n",
      "  │ │ ├─3 (str): 2025-09-08T22:19:58.040Z :: stpipe.ExposurePipeline :: INFO :: Prefetch for DARK reference  (truncated)\n",
      "  │ │ ├─4 (str): 2025-09-08T22:19:58.040Z :: stpipe.ExposurePipeline :: INFO :: Prefetch for DISTORTION refe (truncated)\n",
      "  │ │ ├─5 (str): 2025-09-08T22:19:58.040Z :: stpipe.ExposurePipeline :: INFO :: Prefetch for FLAT reference  (truncated)\n",
      "  │ │ ├─6 (str): 2025-09-08T22:19:58.040Z :: stpipe.ExposurePipeline :: INFO :: Prefetch for GAIN reference  (truncated)\n",
      "  │ │ ├─7 (str): 2025-09-08T22:19:58.041Z :: stpipe.ExposurePipeline :: INFO :: Prefetch for LINEARITY refer (truncated)\n",
      "  │ │ ├─8 (str): 2025-09-08T22:19:58.041Z :: stpipe.ExposurePipeline :: INFO :: Prefetch for MASK reference  (truncated)\n",
      "  │ │ ├─9 (str): 2025-09-08T22:19:58.041Z :: stpipe.ExposurePipeline :: INFO :: Prefetch for PHOTOM referenc (truncated)\n",
      "  │ │ ├─10 (str): 2025-09-08T22:19:58.041Z :: stpipe.ExposurePipeline :: INFO :: Prefetch for READNOISE refe (truncated)\n",
      "  │ │ ├─11 (str): 2025-09-08T22:19:58.041Z :: stpipe.ExposurePipeline :: INFO :: Prefetch for REFPIX referen (truncated)\n",
      "  │ │ ├─12 (str): 2025-09-08T22:19:58.041Z :: stpipe.ExposurePipeline :: INFO :: Prefetch for SATURATION ref (truncated)\n",
      "  │ │ ├─13 (str): 2025-09-08T22:19:58.041Z :: romancal.pipeline.exposure_pipeline :: INFO :: Starting Roman  (truncated)\n",
      "  │ │ ├─14 (str): 2025-09-08T22:19:58.125Z :: stpipe.ExposurePipeline.dq_init :: INFO :: Step dq_init runnin (truncated)\n",
      "  │ │ ├─15 (str): 2025-09-08T22:19:58.356Z :: romancal.dq_init.dq_init_step :: INFO :: Flagging rows from: - (truncated)\n",
      "  │ │ ├─16 (str): 2025-09-08T22:19:58.428Z :: stpipe.ExposurePipeline.dq_init :: INFO :: Step dq_init done\n",
      "  │ │ ├─17 (str): 2025-09-08T22:19:58.460Z :: stpipe.ExposurePipeline.saturation :: INFO :: Step saturation  (truncated)\n",
      "  │ │ ├─18 (str): 2025-09-08T22:19:58.462Z :: romancal.saturation.saturation_step :: INFO :: Using SATURATIO (truncated)\n",
      "  │ │ ├─19 (str): 2025-09-08T22:19:59.966Z :: stcal.saturation.saturation :: INFO :: Detected 405 saturated pixels\n",
      "  │ │ ├─20 (str): 2025-09-08T22:20:00.013Z :: stcal.saturation.saturation :: INFO :: Detected 66812 A/D floor pixels\n",
      "  │ │ ├─21 (str): 2025-09-08T22:20:00.029Z :: stpipe.ExposurePipeline.saturation :: INFO :: Step saturation done\n",
      "  │ │ ├─22 (str): 2025-09-08T22:20:00.196Z :: stpipe.ExposurePipeline.refpix :: INFO :: Step refpix running  (truncated)\n",
      "  │ │ ├─23 (str): 2025-09-08T22:20:00.196Z :: romancal.refpix.refpix_step :: DEBUG :: Opening the science da (truncated)\n",
      "  │ │ ├─24 (str): 2025-09-08T22:20:00.197Z :: romancal.refpix.refpix_step :: DEBUG :: Opening the reference  (truncated)\n",
      "  │ │ ├─25 (str): 2025-09-08T22:20:00.208Z :: romancal.refpix.refpix_step :: DEBUG :: Running the reference  (truncated)\n",
      "  │ │ ├─26 (str): 2025-09-08T22:20:00.208Z :: romancal.refpix.refpix :: DEBUG :: Reading data from datamodel (truncated)\n",
      "  │ │ ├─27 (str): 2025-09-08T22:20:00.386Z :: romancal.refpix.refpix :: DEBUG :: Removed the general offset  (truncated)\n",
      "  │ │ ├─28 (str): 2025-09-08T22:20:00.954Z :: romancal.refpix.refpix :: DEBUG :: Removed boundary trends (in (truncated)\n",
      "  │ │ ├─29 (str)\n",
      "  │ │ ├─30 (str): 2025-09-08T22:20:01.190Z :: romancal.refpix.refpix :: DEBUG :: Cosine interpolated the ref (truncated)\n",
      "  │ │ ├─31 (str): 2025-09-08T22:20:01.486Z :: romancal.refpix.refpix :: DEBUG :: FFT interpolated the refere (truncated)\n",
      "  │ │ ├─32 (str): 2025-09-08T22:20:04.303Z :: romancal.refpix.refpix :: DEBUG :: Applied reference pixel correction\n",
      "  │ │ ├─33 (str): 2025-09-08T22:20:04.368Z :: romancal.refpix.refpix :: DEBUG :: Re-applied the general offs (truncated)\n",
      "  │ │ ├─34 (str): 2025-09-08T22:20:04.389Z :: romancal.refpix.refpix :: DEBUG :: Updated the datamodel with  (truncated)\n",
      "  │ │ ├─35 (str): 2025-09-08T22:20:04.409Z :: stpipe.ExposurePipeline.refpix :: INFO :: Step refpix done\n",
      "  │ │ ├─36 (str): 2025-09-08T22:20:04.441Z :: stpipe.ExposurePipeline.linearity :: INFO :: Step linearity ru (truncated)\n",
      "  │ │ ├─37 (str): 2025-09-08T22:20:04.443Z :: romancal.linearity.linearity_step :: INFO :: Using LINEARITY r (truncated)\n",
      "  │ │ ├─38 (str): 2025-09-08T22:20:17.635Z :: stpipe.ExposurePipeline.linearity :: INFO :: Step linearity done\n",
      "  │ │ ├─39 (str): 2025-09-08T22:20:17.667Z :: stpipe.ExposurePipeline.rampfit :: INFO :: Step rampfit runnin (truncated)\n",
      "  │ │ ├─40 (str): 2025-09-08T22:20:17.669Z :: romancal.ramp_fitting.ramp_fit_step :: INFO :: Using READNOISE (truncated)\n",
      "  │ │ ├─41 (str): 2025-09-08T22:20:17.681Z :: romancal.ramp_fitting.ramp_fit_step :: INFO :: Using GAIN refe (truncated)\n",
      "  │ │ ├─42 (str): 2025-09-08T22:20:17.689Z :: romancal.ramp_fitting.ramp_fit_step :: INFO :: Jump detection  (truncated)\n",
      "  │ │ ├─43 (str): 2025-09-08T22:20:25.402Z :: stpipe.ExposurePipeline.rampfit :: INFO :: Step rampfit done\n",
      "  │ │ ├─44 (str): 2025-09-08T22:20:25.447Z :: stpipe.ExposurePipeline.dark_current :: INFO :: Step dark_curr (truncated)\n",
      "  │ │ ├─45 (str): 2025-09-08T22:20:25.449Z :: romancal.dark_current.dark_current_step :: INFO :: Using DARK  (truncated)\n",
      "  │ │ ├─46 (str): 2025-09-08T22:20:25.532Z :: stpipe.ExposurePipeline.dark_current :: INFO :: Step dark_current done\n",
      "  │ │ ├─47 (str): 2025-09-08T22:20:25.564Z :: stpipe.ExposurePipeline.assign_wcs :: INFO :: Step assign_wcs  (truncated)\n",
      "  │ │ ├─48 (str): 2025-09-08T22:20:25.564Z :: romancal.assign_wcs.assign_wcs_step :: INFO :: reftype, distortion\n",
      "  │ │ ├─49 (str): 2025-09-08T22:20:25.565Z :: romancal.assign_wcs.assign_wcs_step :: INFO :: Using reference (truncated)\n",
      "  │ │ ├─50 (str): 2025-09-08T22:20:25.595Z :: romancal.assign_wcs.pointing :: WARNING :: Given velocity aber (truncated)\n",
      "  │ │ ├─51 (str): 2025-09-08T22:20:25.595Z :: romancal.assign_wcs.pointing :: WARNING :: Velocity aberration (truncated)\n",
      "  │ │ ├─52 (str): 2025-09-08T22:20:25.597Z :: stcal.alignment.util :: INFO :: Update S_REGION to POLYGON ICR (truncated)\n",
      "  │ │ ├─53 (str): 2025-09-08T22:20:25.597Z :: romancal.assign_wcs.utils :: INFO :: S_REGION VALUES: POLYGON  (truncated)\n",
      "  │ │ ├─54 (str): 2025-09-08T22:20:25.597Z :: romancal.assign_wcs.utils :: INFO :: Update S_REGION to POLYGO (truncated)\n",
      "  │ │ ├─55 (str): 2025-09-08T22:20:25.598Z :: stpipe.ExposurePipeline.assign_wcs :: INFO :: Step assign_wcs done\n",
      "  │ │ ├─56 (str): 2025-09-08T22:20:25.629Z :: stpipe.ExposurePipeline.flatfield :: INFO :: Step flatfield ru (truncated)\n",
      "  │ │ ├─57 (str): 2025-09-08T22:20:25.832Z :: stpipe.ExposurePipeline.flatfield :: INFO :: Step flatfield done\n",
      "  │ │ ├─58 (str): 2025-09-08T22:20:25.865Z :: stpipe.ExposurePipeline.photom :: INFO :: Step photom running  (truncated)\n",
      "  │ │ ├─59 (str): 2025-09-08T22:20:25.877Z :: romancal.photom.photom :: DEBUG :: pixel_area = 2.8083389953727505e-13\n",
      "  │ │ ├─60 (str): 2025-09-08T22:20:25.877Z :: romancal.photom.photom :: INFO :: photmjsr value: 0.736781\n",
      "  │ │ ├─61 (str): 2025-09-08T22:20:25.878Z :: romancal.photom.photom :: INFO :: uncertainty value: 0.0286641\n",
      "  │ │ ├─62 (str): 2025-09-08T22:20:25.878Z :: stpipe.ExposurePipeline.photom :: INFO :: Step photom done\n",
      "  │ │ ├─63 (str): 2025-09-08T22:20:25.910Z :: stpipe.ExposurePipeline.source_catalog :: INFO :: Step source_ (truncated)\n",
      "  │ │ ├─64 (str): 2025-09-08T22:20:49.231Z :: romancal.source_catalog.source_catalog_step :: INFO :: Using e (truncated)\n",
      "  │ │ ├─65 (str): 2025-09-08T22:20:49.321Z :: romancal.source_catalog.source_catalog_step :: INFO :: Calcula (truncated)\n",
      "  │ │ ├─66 (str): 2025-09-08T22:20:51.424Z :: romancal.source_catalog.source_catalog_step :: INFO :: Creatin (truncated)\n",
      "  │ │ ├─67 (str): 2025-09-08T22:20:52.464Z :: romancal.source_catalog.source_catalog_step :: INFO :: Detecting sources\n",
      "  │ │ ├─68 (str): 2025-09-08T22:20:53.981Z :: romancal.source_catalog.detection :: INFO :: Detected 110 sources\n",
      "  │ │ ├─69 (str): 2025-09-08T22:20:53.982Z :: romancal.source_catalog.source_catalog_step :: INFO :: Creatin (truncated)\n",
      "  │ │ ├─70 (str): 2025-09-08T22:20:54.026Z :: romancal.source_catalog.source_catalog :: INFO :: Calculating  (truncated)\n",
      "  │ │ ├─71 (str): 2025-09-08T22:20:54.260Z :: romancal.source_catalog.source_catalog :: INFO :: Calculating  (truncated)\n",
      "  │ │ ├─72 (str): 2025-09-08T22:20:54.308Z :: romancal.source_catalog.source_catalog :: INFO :: Calculating  (truncated)\n",
      "  │ │ ├─73 (str): 2025-09-08T22:20:54.457Z :: romancal.source_catalog.source_catalog :: INFO :: Calculating  (truncated)\n",
      "  │ │ ├─74 (str): 2025-09-08T22:20:54.458Z :: romancal.source_catalog.source_catalog :: INFO :: Calculating  (truncated)\n",
      "  │ │ ├─75 (str): 2025-09-08T22:20:56.980Z :: stpipe.ExposurePipeline.source_catalog :: INFO :: Saved model  (truncated)\n",
      "  │ │ ├─76 (str): 2025-09-08T22:20:57.618Z :: numexpr.utils :: INFO :: NumExpr defaulting to 10 threads.\n",
      "  │ │ ├─77 (str): 2025-09-08T22:20:57.811Z :: stpipe.ExposurePipeline.source_catalog :: INFO :: Saved model  (truncated)\n",
      "  │ │ ├─78 (str): 2025-09-08T22:20:57.897Z :: stpipe.ExposurePipeline.source_catalog :: INFO :: Step source_catalog done\n",
      "  │ │ ├─79 (str): 2025-09-08T22:20:57.945Z :: stpipe.ExposurePipeline.tweakreg :: INFO :: Step tweakreg runn (truncated)\n",
      "  │ │ ├─80 (str): 2025-09-08T22:20:57.945Z :: romancal.tweakreg.tweakreg_step :: INFO :: Number of image gro (truncated)\n",
      "  │ │ ├─81 (str): 2025-09-08T22:20:57.945Z :: romancal.tweakreg.tweakreg_step :: INFO :: Image groups:\n",
      "  │ │ ├─82 (str): 2025-09-08T22:20:57.945Z :: romancal.tweakreg.tweakreg_step :: INFO ::   00001010010010010010001\n",
      "  │ │ └─28 not shown\n",
      "  │ ├─cal_step (L2CalStep) # Level 2 Calibration Status ...\n",
      "  │ ├─calibration_software_name (CalibrationSoftwareName): RomanCAL # Calibration Software Name\n",
      "  │ ├─calibration_software_version (CalibrationSoftwareVersion): 0.20.2 # Calibration Software Version Number\n",
      "  │ ├─coordinates (Coordinates) # Name Of The Coordinate Reference Frame ...\n",
      "  │ ├─ephemeris (Ephemeris) # Ephemeris Data Information ...\n",
      "  │ ├─exposure (Exposure) # Exposure Information\n",
      " ...\n",
      "  │ ├─file_date (FileDate): 2020-01-01T00:00:00.000\n",
      "  │ ├─filename (Filename): r0000101001001001001_0001_wfi01_cal.asdf # File Name\n",
      "  │ ├─guide_star (Guidestar) # Guide Star and Guide Window Information ...\n",
      "  │ ├─instrument (WfiMode) # Wide Field Instrument (WFI) Configuration Information ...\n",
      "  │ ├─model_type (ModelType): ImageModel # Data Model Type\n",
      "  │ ├─observation (Observation) # Observation Identifiers ...\n",
      "  │ ├─origin (Origin): STSCI/SOC # Institution / Organization Name\n",
      "  │ ├─photometry (Photometry) # Photometry Information ...\n",
      "  │ ├─pointing (Pointing) # Spacecraft Pointing Information ...\n",
      "  │ ├─prd_version (PrdVersion): 8.8.8 # SOC PRD Version Number\n",
      "  │ ├─product_type (ProductType): l2 # Product Type Descriptor\n",
      "  │ ├─program (Program) # Program Information ...\n",
      "  │ ├─rcs (Rcs) # Relative Calibration System Information ...\n",
      "  │ ├─ref_file (RefFile) # Reference File Information ...\n",
      "  │ ├─sdf_software_version (SdfSoftwareVersion): 7.7.7 # SDF Version Number\n",
      "  │ ├─source_catalog (SourceCatalog) # Source Detection Catalog ...\n",
      "  │ ├─telescope (Telescope): ROMAN # Telescope Name\n",
      "  │ ├─velocity_aberration (VelocityAberration) # Velocity Aberration Correction Information ...\n",
      "  │ ├─visit (Visit) # Visit Information ...\n",
      "  │ ├─wcs (WCS) # WCS object\n",
      "  │ ├─wcs_fit_results (dict) ...\n",
      "  │ └─wcsinfo (Wcsinfo) # World Coordinate System (WCS) Information ...\n",
      "  ├─data (NDArrayType) # Science Data (DN/s) or (MJy/sr)\n",
      "  │ ├─shape (tuple) ...\n",
      "  │ └─dtype (Float32DType): float32\n",
      "  ├─dq (NDArrayType) # Data Quality\n",
      "  │ ├─shape (tuple) ...\n",
      "  │ └─dtype (UInt32DType): uint32\n",
      "  ├─err (NDArrayType) # Error (DN / s) or (MJy / sr)\n",
      "  │ ├─shape (tuple) ...\n",
      "  │ └─dtype (Float32DType): float32\n",
      "  ├─var_poisson (NDArrayType) # Poisson Variance (DN^2/s^2) or (MJy^2/sr^2)\n",
      "  │ ├─shape (tuple) ...\n",
      "  │ └─dtype (Float32DType): float32\n",
      "  ├─var_rnoise (NDArrayType) # Read Noise Variance (DN^2/s^2) or (MJy^2/sr^2)\n",
      "  │ ├─shape (tuple) ...\n",
      "  │ └─dtype (Float32DType): float32\n",
      "  ├─amp33 (NDArrayType) # Amplifier 33 Reference Pixel Data (DN)\n",
      "  │ ├─shape (tuple) ...\n",
      "  │ └─dtype (UInt16DType): uint16\n",
      "  ├─border_ref_pix_left (NDArrayType) # Left-Edge Border Reference Pixels (DN)\n",
      "  │ ├─shape (tuple) ...\n",
      "  │ └─dtype (Float32DType): float32\n",
      "  ├─border_ref_pix_right (NDArrayType) # Right-Edge Border Reference Pixels (DN)\n",
      "  │ ├─shape (tuple) ...\n",
      "  │ └─dtype (Float32DType): float32\n",
      "  ├─border_ref_pix_top (NDArrayType) # Border Reference Pixels on the Top of the Detector (DN)\n",
      "  │ ├─shape (tuple) ...\n",
      "  │ └─dtype (Float32DType): float32\n",
      "  ├─border_ref_pix_bottom (NDArrayType) # Bottom-Edge Border Reference Pixels (DN)\n",
      "  │ ├─shape (tuple) ...\n",
      "  │ └─dtype (Float32DType): float32\n",
      "  ├─dq_border_ref_pix_left (NDArrayType) # Left-Edge Border Reference Pixel Data Quality (DN)\n",
      "  │ ├─shape (tuple) ...\n",
      "  │ └─dtype (UInt32DType): uint32\n",
      "  ├─dq_border_ref_pix_right (NDArrayType) # Right-Edge Border Reference Pixel Data Quality (DN)\n",
      "  │ ├─shape (tuple) ...\n",
      "  │ └─dtype (UInt32DType): uint32\n",
      "  ├─dq_border_ref_pix_top (NDArrayType) # Border Reference Pixel Data Quality on the Top of the Detector (DN)\n",
      "  │ ├─shape (tuple) ...\n",
      "  │ └─dtype (UInt32DType): uint32\n",
      "  └─dq_border_ref_pix_bottom (NDArrayType) # Bottom-Edge Border Reference Pixel Data Quality (DN)\n",
      "    ├─shape (tuple) ...\n",
      "    └─dtype (UInt32DType): uint32\n",
      "Some nodes not shown.\n"
     ]
    }
   ],
   "source": [
    "af.info(max_rows=200)"
   ]
  },
  {
   "cell_type": "code",
   "execution_count": 4,
   "id": "38617281",
   "metadata": {
    "tags": [
     "raises-exception"
    ]
   },
   "outputs": [
    {
     "data": {
      "text/plain": [
       "root (AsdfObject)\n",
       "└─roman (WfiImage) # Level 2 (L2) Calibrated Roman Wide Field Instrument (WFI) Rate Image.\n",
       "  └─meta (dict)\n",
       "    ├─cal_step (L2CalStep) # Level 2 Calibration Status\n",
       "    │ └─assign_wcs (str): COMPLETE\n",
       "    ├─wcs (WCS) # WCS object\n",
       "    ├─wcs_fit_results (dict): {'<rot>': -2.6066827438249544e-05, '<scale>': 1.0, 'center': [-3.0895794266214 (truncated)\n",
       "    └─wcsinfo (Wcsinfo): {'aperture_name': 'WFI01_FULL', 'v2_ref': 1312.9491452484797, 'v3_ref': -1040.78537 (truncated)"
      ]
     },
     "execution_count": 4,
     "metadata": {},
     "output_type": "execute_result"
    }
   ],
   "source": [
    "af.search('wcs')"
   ]
  },
  {
   "cell_type": "code",
   "execution_count": 5,
   "id": "87336258",
   "metadata": {
    "tags": [
     "raises-exception"
    ]
   },
   "outputs": [
    {
     "name": "stdout",
     "output_type": "stream",
     "text": [
      "   From                   Transform                \n",
      "---------- ----------------------------------------\n",
      "  detector                            CompoundModel\n",
      "      v2v3                           DVA_Correction\n",
      "v2v3vacorr JWST tangent-plane linear correction. v1\n",
      "  v2v3corr                                 v23tosky\n",
      "     world                                     None\n"
     ]
    }
   ],
   "source": [
    "w = af['roman']['meta']['wcs']\n",
    "print(w)"
   ]
  },
  {
   "cell_type": "code",
   "execution_count": 6,
   "id": "b3d27a41",
   "metadata": {
    "tags": [
     "raises-exception"
    ]
   },
   "outputs": [
    {
     "name": "stdout",
     "output_type": "stream",
     "text": [
      "269.97185510222323 65.98323704142405\n"
     ]
    }
   ],
   "source": [
    "ra, dec = w(200, 300)\n",
    "print(ra, dec)"
   ]
  },
  {
   "cell_type": "code",
   "execution_count": 7,
   "id": "4f8f28e1",
   "metadata": {
    "tags": [
     "raises-exception"
    ]
   },
   "outputs": [
    {
     "name": "stdout",
     "output_type": "stream",
     "text": [
      "<SkyCoord (ICRS): (ra, dec) in deg\n",
      "    (269.9718551, 65.98323704)>\n"
     ]
    }
   ],
   "source": [
    "sky = w.pixel_to_world(200, 300)\n",
    "print(sky)"
   ]
  },
  {
   "cell_type": "code",
   "execution_count": 8,
   "id": "0a95dda0",
   "metadata": {
    "tags": [
     "raises-exception"
    ]
   },
   "outputs": [
    {
     "data": {
      "text/plain": [
       "array([[ 1.6165170e-01,  8.1736194e-03,  2.1936220e-01, ...,\n",
       "         2.0326480e-02,  2.3639268e-01,  1.6591458e-02],\n",
       "       [ 2.3264721e-01,  1.2669931e-01,  2.5434250e-01, ...,\n",
       "        -3.8930042e+03,  1.6126172e-01,  8.6484736e+03],\n",
       "       [ 1.9691539e-01,  2.8878054e-01,  1.6772999e-01, ...,\n",
       "         7.5255363e-04,  2.6196489e-01, -1.7857909e-03],\n",
       "       ...,\n",
       "       [ 2.0470999e-01,  1.8192567e-01,  2.3468970e-01, ...,\n",
       "         2.1468423e-01,  1.7848723e-01,  2.0149684e-01],\n",
       "       [ 1.6591151e-01,  1.6015893e-01,  2.5581256e-01, ...,\n",
       "         2.1113476e-01,  2.0809896e-01,  1.4359643e-01],\n",
       "       [ 1.9647996e-01,  1.8229012e-01,  2.0337157e-01, ...,\n",
       "         2.4147762e-01,  2.1446401e-01,  1.7491595e-01]],\n",
       "      shape=(4088, 4088), dtype=float32)"
      ]
     },
     "execution_count": 8,
     "metadata": {},
     "output_type": "execute_result"
    }
   ],
   "source": [
    "af['roman']['data']"
   ]
  },
  {
   "cell_type": "code",
   "execution_count": 9,
   "id": "4ed7ccc8",
   "metadata": {},
   "outputs": [],
   "source": [
    "#af['roman']['data'][0, 0] = 999"
   ]
  },
  {
   "cell_type": "markdown",
   "id": "43b0131f",
   "metadata": {},
   "source": [
    "**Exercise 2:**\n",
    "\n",
    "Add `additionalProperties=false` to the schema and open the file"
   ]
  },
  {
   "cell_type": "code",
   "execution_count": 10,
   "id": "7283577e",
   "metadata": {},
   "outputs": [],
   "source": [
    "s = \"\"\"\n",
    "%YAML 1.1\n",
    "---\n",
    "$schema: http://stsci.edu/schemas/yaml-schema/draft-01\n",
    "\n",
    "title: Mickey's pet\n",
    "description: |\n",
    "  Basic info and a picture of Mickie's \n",
    "  dog Pluto.\n",
    "\n",
    "type: object\n",
    "properties:\n",
    "  age:\n",
    "    title: The age of Pluto\n",
    "    type: object\n",
    "    properties:\n",
    "      birthday:\n",
    "        title: Pluto's first showing\n",
    "        tag: tag:stsci.edu:asdf/time/time-1.1.0\n",
    "  mass:\n",
    "    title: How much he weighs.\n",
    "    tag: tag:stsci.edu:asdf/unit/quantity-1.1.0\n",
    "  picture:\n",
    "    tag: tag:stsci.edu:asdf/core/ndarray-1.0.0\n",
    "  name:\n",
    "    title: Name\n",
    "    type: string\n",
    "required: [name, picture]\n",
    "additionalProperties: false\n",
    "...\n",
    "\"\"\""
   ]
  },
  {
   "cell_type": "code",
   "execution_count": 11,
   "id": "49cc45f0",
   "metadata": {},
   "outputs": [],
   "source": [
    "f = open('add-prop-1.0.0.yaml', mode='w')\n",
    "f.write(s)\n",
    "f.close()"
   ]
  },
  {
   "cell_type": "code",
   "execution_count": 12,
   "id": "075f4ff7",
   "metadata": {
    "tags": [
     "raises-exception"
    ]
   },
   "outputs": [
    {
     "ename": "ValidationError",
     "evalue": "Additional properties are not allowed ('asdf_library', 'birthday', 'history' were unexpected)\n\nFailed validating 'additionalProperties' in schema:\n    {'$schema': 'http://stsci.edu/schemas/yaml-schema/draft-01',\n     'additionalProperties': False,\n     'description': \"Basic info and a picture of Mickie's \\ndog Pluto.\\n\",\n     'properties': {'age': {'properties': {'birthday': {'tag': 'tag:stsci.edu:asdf/time/time-1.1.0',\n                                                        'title': \"Pluto's \"\n                                                                 'first '\n                                                                 'showing'}},\n                            'title': 'The age of Pluto',\n                            'type': 'object'},\n                    'mass': {'tag': 'tag:stsci.edu:asdf/unit/quantity-1.1.0',\n                             'title': 'How much he weighs.'},\n                    'name': {'title': 'Name', 'type': 'string'},\n                    'picture': {'tag': 'tag:stsci.edu:asdf/core/ndarray-1.0.0'}},\n     'required': ['name', 'picture'],\n     'title': \"Mickey's pet\",\n     'type': 'object'}\n\nOn instance:\n    {'asdf_library': {'author': 'The ASDF Developers',\n                      'homepage': 'http://github.com/asdf-format/asdf',\n                      'name': 'asdf',\n                      'version': '2.12.0'},\n     'birthday': datetime.date(1930, 8, 17),\n     'history': {'extensions': [{'extension_class': 'asdf.extension.BuiltinExtension',\n                                 'software': {'name': 'asdf',\n                                              'version': '2.12.0'}},\n                                {'extension_class': 'asdf.extension._manifest.ManifestExtension',\n                                 'extension_uri': 'asdf://asdf-format.org/core/extensions/core-1.5.0',\n                                 'software': {'name': 'asdf-astropy',\n                                              'version': '0.2.1'}}]},\n     'mass': {'unit': 'kg', 'value': 10.0},\n     'name': 'Pluto',\n     'picture': {'byteorder': 'little',\n                 'datatype': 'float32',\n                 'shape': [333, 151, 4],\n                 'source': 0}}",
     "output_type": "error",
     "traceback": [
      "\u001b[31m---------------------------------------------------------------------------\u001b[39m",
      "\u001b[31mValidationError\u001b[39m                           Traceback (most recent call last)",
      "\u001b[36mCell\u001b[39m\u001b[36m \u001b[39m\u001b[32mIn[12]\u001b[39m\u001b[32m, line 2\u001b[39m\n\u001b[32m      1\u001b[39m \u001b[38;5;66;03m# Expected validation error\u001b[39;00m\n\u001b[32m----> \u001b[39m\u001b[32m2\u001b[39m afs = \u001b[43masdf\u001b[49m\u001b[43m.\u001b[49m\u001b[43mopen\u001b[49m\u001b[43m(\u001b[49m\u001b[33;43m'\u001b[39;49m\u001b[33;43mpluto.asdf\u001b[39;49m\u001b[33;43m'\u001b[39;49m\u001b[43m,\u001b[49m\u001b[43m \u001b[49m\u001b[43mcustom_schema\u001b[49m\u001b[43m=\u001b[49m\u001b[33;43m'\u001b[39;49m\u001b[33;43m./add-prop-1.0.0.yaml\u001b[39;49m\u001b[33;43m'\u001b[39;49m\u001b[43m)\u001b[49m\n",
      "\u001b[36mFile \u001b[39m\u001b[32m/opt/anaconda3/envs/roman-data-workshop-env/lib/python3.11/site-packages/asdf/_asdf.py:1623\u001b[39m, in \u001b[36mopen_asdf\u001b[39m\u001b[34m(fd, uri, mode, validate_checksums, extensions, ignore_unrecognized_tag, _force_raw_types, memmap, lazy_tree, lazy_load, custom_schema, strict_extension_check, ignore_missing_extensions, _get_yaml_content)\u001b[39m\n\u001b[32m   1614\u001b[39m         mode = \u001b[33m\"\u001b[39m\u001b[33mr\u001b[39m\u001b[33m\"\u001b[39m\n\u001b[32m   1616\u001b[39m instance = AsdfFile(\n\u001b[32m   1617\u001b[39m     ignore_unrecognized_tag=ignore_unrecognized_tag,\n\u001b[32m   1618\u001b[39m     memmap=memmap,\n\u001b[32m   1619\u001b[39m     lazy_load=lazy_load,\n\u001b[32m   1620\u001b[39m     custom_schema=custom_schema,\n\u001b[32m   1621\u001b[39m )\n\u001b[32m-> \u001b[39m\u001b[32m1623\u001b[39m \u001b[38;5;28;01mreturn\u001b[39;00m \u001b[43mAsdfFile\u001b[49m\u001b[43m.\u001b[49m\u001b[43m_open_impl\u001b[49m\u001b[43m(\u001b[49m\n\u001b[32m   1624\u001b[39m \u001b[43m    \u001b[49m\u001b[43minstance\u001b[49m\u001b[43m,\u001b[49m\n\u001b[32m   1625\u001b[39m \u001b[43m    \u001b[49m\u001b[43mfd\u001b[49m\u001b[43m,\u001b[49m\n\u001b[32m   1626\u001b[39m \u001b[43m    \u001b[49m\u001b[43muri\u001b[49m\u001b[43m=\u001b[49m\u001b[43muri\u001b[49m\u001b[43m,\u001b[49m\n\u001b[32m   1627\u001b[39m \u001b[43m    \u001b[49m\u001b[43mmode\u001b[49m\u001b[43m=\u001b[49m\u001b[43mmode\u001b[49m\u001b[43m,\u001b[49m\n\u001b[32m   1628\u001b[39m \u001b[43m    \u001b[49m\u001b[43mvalidate_checksums\u001b[49m\u001b[43m=\u001b[49m\u001b[43mvalidate_checksums\u001b[49m\u001b[43m,\u001b[49m\n\u001b[32m   1629\u001b[39m \u001b[43m    \u001b[49m\u001b[43mextensions\u001b[49m\u001b[43m=\u001b[49m\u001b[43mextensions\u001b[49m\u001b[43m,\u001b[49m\n\u001b[32m   1630\u001b[39m \u001b[43m    \u001b[49m\u001b[43mlazy_tree\u001b[49m\u001b[43m=\u001b[49m\u001b[43mlazy_tree\u001b[49m\u001b[43m,\u001b[49m\n\u001b[32m   1631\u001b[39m \u001b[43m    \u001b[49m\u001b[43m_get_yaml_content\u001b[49m\u001b[43m=\u001b[49m\u001b[43m_get_yaml_content\u001b[49m\u001b[43m,\u001b[49m\n\u001b[32m   1632\u001b[39m \u001b[43m    \u001b[49m\u001b[43m_force_raw_types\u001b[49m\u001b[43m=\u001b[49m\u001b[43m_force_raw_types\u001b[49m\u001b[43m,\u001b[49m\n\u001b[32m   1633\u001b[39m \u001b[43m    \u001b[49m\u001b[43mstrict_extension_check\u001b[49m\u001b[43m=\u001b[49m\u001b[43mstrict_extension_check\u001b[49m\u001b[43m,\u001b[49m\n\u001b[32m   1634\u001b[39m \u001b[43m    \u001b[49m\u001b[43mignore_missing_extensions\u001b[49m\u001b[43m=\u001b[49m\u001b[43mignore_missing_extensions\u001b[49m\u001b[43m,\u001b[49m\n\u001b[32m   1635\u001b[39m \u001b[43m\u001b[49m\u001b[43m)\u001b[49m\n",
      "\u001b[36mFile \u001b[39m\u001b[32m/opt/anaconda3/envs/roman-data-workshop-env/lib/python3.11/site-packages/asdf/_asdf.py:935\u001b[39m, in \u001b[36mAsdfFile._open_impl\u001b[39m\u001b[34m(cls, self, fd, uri, mode, validate_checksums, extensions, lazy_tree, _get_yaml_content, _force_raw_types, strict_extension_check, ignore_missing_extensions)\u001b[39m\n\u001b[32m    933\u001b[39m generic_file = generic_io.get_file(fd, mode=mode, uri=uri)\n\u001b[32m    934\u001b[39m \u001b[38;5;28;01mtry\u001b[39;00m:\n\u001b[32m--> \u001b[39m\u001b[32m935\u001b[39m     \u001b[38;5;28;01mreturn\u001b[39;00m \u001b[38;5;28;43mcls\u001b[39;49m\u001b[43m.\u001b[49m\u001b[43m_open_asdf\u001b[49m\u001b[43m(\u001b[49m\n\u001b[32m    936\u001b[39m \u001b[43m        \u001b[49m\u001b[38;5;28;43mself\u001b[39;49m\u001b[43m,\u001b[49m\n\u001b[32m    937\u001b[39m \u001b[43m        \u001b[49m\u001b[43mgeneric_file\u001b[49m\u001b[43m,\u001b[49m\n\u001b[32m    938\u001b[39m \u001b[43m        \u001b[49m\u001b[43mvalidate_checksums\u001b[49m\u001b[43m=\u001b[49m\u001b[43mvalidate_checksums\u001b[49m\u001b[43m,\u001b[49m\n\u001b[32m    939\u001b[39m \u001b[43m        \u001b[49m\u001b[43mextensions\u001b[49m\u001b[43m=\u001b[49m\u001b[43mextensions\u001b[49m\u001b[43m,\u001b[49m\n\u001b[32m    940\u001b[39m \u001b[43m        \u001b[49m\u001b[43mlazy_tree\u001b[49m\u001b[43m=\u001b[49m\u001b[43mlazy_tree\u001b[49m\u001b[43m,\u001b[49m\n\u001b[32m    941\u001b[39m \u001b[43m        \u001b[49m\u001b[43m_get_yaml_content\u001b[49m\u001b[43m=\u001b[49m\u001b[43m_get_yaml_content\u001b[49m\u001b[43m,\u001b[49m\n\u001b[32m    942\u001b[39m \u001b[43m        \u001b[49m\u001b[43m_force_raw_types\u001b[49m\u001b[43m=\u001b[49m\u001b[43m_force_raw_types\u001b[49m\u001b[43m,\u001b[49m\n\u001b[32m    943\u001b[39m \u001b[43m        \u001b[49m\u001b[43mstrict_extension_check\u001b[49m\u001b[43m=\u001b[49m\u001b[43mstrict_extension_check\u001b[49m\u001b[43m,\u001b[49m\n\u001b[32m    944\u001b[39m \u001b[43m        \u001b[49m\u001b[43mignore_missing_extensions\u001b[49m\u001b[43m=\u001b[49m\u001b[43mignore_missing_extensions\u001b[49m\u001b[43m,\u001b[49m\n\u001b[32m    945\u001b[39m \u001b[43m    \u001b[49m\u001b[43m)\u001b[49m\n\u001b[32m    946\u001b[39m \u001b[38;5;28;01mexcept\u001b[39;00m \u001b[38;5;167;01mException\u001b[39;00m:\n\u001b[32m    947\u001b[39m     \u001b[38;5;28;01mif\u001b[39;00m close_on_fail:\n",
      "\u001b[36mFile \u001b[39m\u001b[32m/opt/anaconda3/envs/roman-data-workshop-env/lib/python3.11/site-packages/asdf/_asdf.py:895\u001b[39m, in \u001b[36mAsdfFile._open_asdf\u001b[39m\u001b[34m(cls, self, fd, validate_checksums, extensions, lazy_tree, _get_yaml_content, _force_raw_types, strict_extension_check, ignore_missing_extensions)\u001b[39m\n\u001b[32m    893\u001b[39m \u001b[38;5;28;01mif\u001b[39;00m get_config().validate_on_read:\n\u001b[32m    894\u001b[39m     \u001b[38;5;28;01mtry\u001b[39;00m:\n\u001b[32m--> \u001b[39m\u001b[32m895\u001b[39m         \u001b[38;5;28;43mself\u001b[39;49m\u001b[43m.\u001b[49m\u001b[43m_validate\u001b[49m\u001b[43m(\u001b[49m\u001b[43mtree\u001b[49m\u001b[43m,\u001b[49m\u001b[43m \u001b[49m\u001b[43mreading\u001b[49m\u001b[43m=\u001b[49m\u001b[38;5;28;43;01mTrue\u001b[39;49;00m\u001b[43m)\u001b[49m\n\u001b[32m    896\u001b[39m     \u001b[38;5;28;01mexcept\u001b[39;00m ValidationError:\n\u001b[32m    897\u001b[39m         \u001b[38;5;28mself\u001b[39m.close()\n",
      "\u001b[36mFile \u001b[39m\u001b[32m/opt/anaconda3/envs/roman-data-workshop-env/lib/python3.11/site-packages/asdf/_asdf.py:592\u001b[39m, in \u001b[36mAsdfFile._validate\u001b[39m\u001b[34m(self, tree, custom, reading)\u001b[39m\n\u001b[32m    590\u001b[39m \u001b[38;5;66;03m# Perform secondary validation pass if requested\u001b[39;00m\n\u001b[32m    591\u001b[39m \u001b[38;5;28;01mif\u001b[39;00m custom \u001b[38;5;129;01mand\u001b[39;00m \u001b[38;5;28mself\u001b[39m._custom_schema:\n\u001b[32m--> \u001b[39m\u001b[32m592\u001b[39m     \u001b[43mschema\u001b[49m\u001b[43m.\u001b[49m\u001b[43mvalidate\u001b[49m\u001b[43m(\u001b[49m\u001b[43mtagged_tree\u001b[49m\u001b[43m,\u001b[49m\u001b[43m \u001b[49m\u001b[38;5;28;43mself\u001b[39;49m\u001b[43m,\u001b[49m\u001b[43m \u001b[49m\u001b[38;5;28;43mself\u001b[39;49m\u001b[43m.\u001b[49m\u001b[43m_custom_schema\u001b[49m\u001b[43m,\u001b[49m\u001b[43m \u001b[49m\u001b[43mreading\u001b[49m\u001b[43m=\u001b[49m\u001b[43mreading\u001b[49m\u001b[43m)\u001b[49m\n",
      "\u001b[36mFile \u001b[39m\u001b[32m/opt/anaconda3/envs/roman-data-workshop-env/lib/python3.11/site-packages/asdf/schema.py:637\u001b[39m, in \u001b[36mvalidate\u001b[39m\u001b[34m(instance, ctx, schema, validators, reading, *args, **kwargs)\u001b[39m\n\u001b[32m    634\u001b[39m     ctx = AsdfFile()\n\u001b[32m    636\u001b[39m validator = get_validator({} \u001b[38;5;28;01mif\u001b[39;00m schema \u001b[38;5;129;01mis\u001b[39;00m \u001b[38;5;28;01mNone\u001b[39;00m \u001b[38;5;28;01melse\u001b[39;00m schema, ctx, validators, \u001b[38;5;28;01mNone\u001b[39;00m, *args, **kwargs)\n\u001b[32m--> \u001b[39m\u001b[32m637\u001b[39m \u001b[43mvalidator\u001b[49m\u001b[43m.\u001b[49m\u001b[43mvalidate\u001b[49m\u001b[43m(\u001b[49m\u001b[43minstance\u001b[49m\u001b[43m)\u001b[49m\n\u001b[32m    639\u001b[39m additional_validators = [_validate_large_literals]\n\u001b[32m    640\u001b[39m \u001b[38;5;28;01mif\u001b[39;00m ctx.version >= versioning.RESTRICTED_KEYS_MIN_VERSION:\n",
      "\u001b[36mFile \u001b[39m\u001b[32m/opt/anaconda3/envs/roman-data-workshop-env/lib/python3.11/site-packages/asdf/_jsonschema/validators.py:312\u001b[39m, in \u001b[36mcreate.<locals>.Validator.validate\u001b[39m\u001b[34m(self, *args, **kwargs)\u001b[39m\n\u001b[32m    310\u001b[39m \u001b[38;5;28;01mdef\u001b[39;00m\u001b[38;5;250m \u001b[39m\u001b[34mvalidate\u001b[39m(\u001b[38;5;28mself\u001b[39m, *args, **kwargs):\n\u001b[32m    311\u001b[39m     \u001b[38;5;28;01mfor\u001b[39;00m error \u001b[38;5;129;01min\u001b[39;00m \u001b[38;5;28mself\u001b[39m.iter_errors(*args, **kwargs):\n\u001b[32m--> \u001b[39m\u001b[32m312\u001b[39m         \u001b[38;5;28;01mraise\u001b[39;00m error\n",
      "\u001b[31mValidationError\u001b[39m: Additional properties are not allowed ('asdf_library', 'birthday', 'history' were unexpected)\n\nFailed validating 'additionalProperties' in schema:\n    {'$schema': 'http://stsci.edu/schemas/yaml-schema/draft-01',\n     'additionalProperties': False,\n     'description': \"Basic info and a picture of Mickie's \\ndog Pluto.\\n\",\n     'properties': {'age': {'properties': {'birthday': {'tag': 'tag:stsci.edu:asdf/time/time-1.1.0',\n                                                        'title': \"Pluto's \"\n                                                                 'first '\n                                                                 'showing'}},\n                            'title': 'The age of Pluto',\n                            'type': 'object'},\n                    'mass': {'tag': 'tag:stsci.edu:asdf/unit/quantity-1.1.0',\n                             'title': 'How much he weighs.'},\n                    'name': {'title': 'Name', 'type': 'string'},\n                    'picture': {'tag': 'tag:stsci.edu:asdf/core/ndarray-1.0.0'}},\n     'required': ['name', 'picture'],\n     'title': \"Mickey's pet\",\n     'type': 'object'}\n\nOn instance:\n    {'asdf_library': {'author': 'The ASDF Developers',\n                      'homepage': 'http://github.com/asdf-format/asdf',\n                      'name': 'asdf',\n                      'version': '2.12.0'},\n     'birthday': datetime.date(1930, 8, 17),\n     'history': {'extensions': [{'extension_class': 'asdf.extension.BuiltinExtension',\n                                 'software': {'name': 'asdf',\n                                              'version': '2.12.0'}},\n                                {'extension_class': 'asdf.extension._manifest.ManifestExtension',\n                                 'extension_uri': 'asdf://asdf-format.org/core/extensions/core-1.5.0',\n                                 'software': {'name': 'asdf-astropy',\n                                              'version': '0.2.1'}}]},\n     'mass': {'unit': 'kg', 'value': 10.0},\n     'name': 'Pluto',\n     'picture': {'byteorder': 'little',\n                 'datatype': 'float32',\n                 'shape': [333, 151, 4],\n                 'source': 0}}"
     ]
    }
   ],
   "source": [
    "# Expected validation error\n",
    "afs = asdf.open('pluto.asdf', custom_schema='./add-prop-1.0.0.yaml')"
   ]
  },
  {
   "cell_type": "markdown",
   "id": "0525f622",
   "metadata": {},
   "source": [
    "Take the original schema and add a new required property, called `friend`."
   ]
  },
  {
   "cell_type": "code",
   "execution_count": 13,
   "id": "9c394371",
   "metadata": {},
   "outputs": [],
   "source": [
    "s = \"\"\"\n",
    "%YAML 1.1\n",
    "---\n",
    "$schema: http://stsci.edu/schemas/yaml-schema/draft-01\n",
    "\n",
    "title: Mickey's pet\n",
    "description: |\n",
    "  Basic info and a picture of Mickie's \n",
    "  dog Pluto.\n",
    "\n",
    "type: object\n",
    "properties:\n",
    "  age:\n",
    "    title: The age of Pluto\n",
    "    type: object\n",
    "    properties:\n",
    "      birthday:\n",
    "        title: Pluto's first showing\n",
    "        tag: tag:stsci.edu:asdf/time/time-1.1.0\n",
    "  mass:\n",
    "    title: How much he weighs.\n",
    "    tag: tag:stsci.edu:asdf/unit/quantity-1.1.0\n",
    "  picture:\n",
    "    tag: tag:stsci.edu:asdf/core/ndarray-1.0.0\n",
    "  name:\n",
    "    title: Name\n",
    "    type: string\n",
    "  friend:\n",
    "    type: string\n",
    "    title: \"Who is Pluto's friend?\"\n",
    "required: [name, picture, friend]\n",
    "...\n",
    "\"\"\""
   ]
  },
  {
   "cell_type": "code",
   "execution_count": 18,
   "id": "27809f12",
   "metadata": {},
   "outputs": [],
   "source": [
    "f = open('pluto-friend-1.0.0.yaml', mode='w')\n",
    "f.write(s)\n",
    "f.close()"
   ]
  },
  {
   "cell_type": "code",
   "execution_count": 19,
   "id": "49afe391",
   "metadata": {
    "tags": [
     "raises-exception"
    ]
   },
   "outputs": [
    {
     "ename": "ValidationError",
     "evalue": "'friend' is a required property\n\nFailed validating 'required' in schema:\n    {'$schema': 'http://stsci.edu/schemas/yaml-schema/draft-01',\n     'description': \"Basic info and a picture of Mickie's \\ndog Pluto.\\n\",\n     'properties': {'age': {'properties': {'birthday': {'tag': 'tag:stsci.edu:asdf/time/time-1.1.0',\n                                                        'title': \"Pluto's \"\n                                                                 'first '\n                                                                 'showing'}},\n                            'title': 'The age of Pluto',\n                            'type': 'object'},\n                    'friend': {'title': \"Who is Pluto's friend?\",\n                               'type': 'string'},\n                    'mass': {'tag': 'tag:stsci.edu:asdf/unit/quantity-1.1.0',\n                             'title': 'How much he weighs.'},\n                    'name': {'title': 'Name', 'type': 'string'},\n                    'picture': {'tag': 'tag:stsci.edu:asdf/core/ndarray-1.0.0'}},\n     'required': ['name', 'picture', 'friend'],\n     'title': \"Mickey's pet\",\n     'type': 'object'}\n\nOn instance:\n    {'asdf_library': {'author': 'The ASDF Developers',\n                      'homepage': 'http://github.com/asdf-format/asdf',\n                      'name': 'asdf',\n                      'version': '2.12.0'},\n     'birthday': datetime.date(1930, 8, 17),\n     'history': {'extensions': [{'extension_class': 'asdf.extension.BuiltinExtension',\n                                 'software': {'name': 'asdf',\n                                              'version': '2.12.0'}},\n                                {'extension_class': 'asdf.extension._manifest.ManifestExtension',\n                                 'extension_uri': 'asdf://asdf-format.org/core/extensions/core-1.5.0',\n                                 'software': {'name': 'asdf-astropy',\n                                              'version': '0.2.1'}}]},\n     'mass': {'unit': 'kg', 'value': 10.0},\n     'name': 'Pluto',\n     'picture': {'byteorder': 'little',\n                 'datatype': 'float32',\n                 'shape': [333, 151, 4],\n                 'source': 0}}",
     "output_type": "error",
     "traceback": [
      "\u001b[31m---------------------------------------------------------------------------\u001b[39m",
      "\u001b[31mValidationError\u001b[39m                           Traceback (most recent call last)",
      "\u001b[36mCell\u001b[39m\u001b[36m \u001b[39m\u001b[32mIn[19]\u001b[39m\u001b[32m, line 2\u001b[39m\n\u001b[32m      1\u001b[39m \u001b[38;5;66;03m# Expected validation error\u001b[39;00m\n\u001b[32m----> \u001b[39m\u001b[32m2\u001b[39m afs = \u001b[43masdf\u001b[49m\u001b[43m.\u001b[49m\u001b[43mopen\u001b[49m\u001b[43m(\u001b[49m\u001b[33;43m'\u001b[39;49m\u001b[33;43mpluto.asdf\u001b[39;49m\u001b[33;43m'\u001b[39;49m\u001b[43m,\u001b[49m\u001b[43m \u001b[49m\u001b[43mcustom_schema\u001b[49m\u001b[43m=\u001b[49m\u001b[33;43m'\u001b[39;49m\u001b[33;43m./pluto-friend-1.0.0.yaml\u001b[39;49m\u001b[33;43m'\u001b[39;49m\u001b[43m)\u001b[49m\n",
      "\u001b[36mFile \u001b[39m\u001b[32m/opt/anaconda3/envs/roman-data-workshop-env/lib/python3.11/site-packages/asdf/_asdf.py:1623\u001b[39m, in \u001b[36mopen_asdf\u001b[39m\u001b[34m(fd, uri, mode, validate_checksums, extensions, ignore_unrecognized_tag, _force_raw_types, memmap, lazy_tree, lazy_load, custom_schema, strict_extension_check, ignore_missing_extensions, _get_yaml_content)\u001b[39m\n\u001b[32m   1614\u001b[39m         mode = \u001b[33m\"\u001b[39m\u001b[33mr\u001b[39m\u001b[33m\"\u001b[39m\n\u001b[32m   1616\u001b[39m instance = AsdfFile(\n\u001b[32m   1617\u001b[39m     ignore_unrecognized_tag=ignore_unrecognized_tag,\n\u001b[32m   1618\u001b[39m     memmap=memmap,\n\u001b[32m   1619\u001b[39m     lazy_load=lazy_load,\n\u001b[32m   1620\u001b[39m     custom_schema=custom_schema,\n\u001b[32m   1621\u001b[39m )\n\u001b[32m-> \u001b[39m\u001b[32m1623\u001b[39m \u001b[38;5;28;01mreturn\u001b[39;00m \u001b[43mAsdfFile\u001b[49m\u001b[43m.\u001b[49m\u001b[43m_open_impl\u001b[49m\u001b[43m(\u001b[49m\n\u001b[32m   1624\u001b[39m \u001b[43m    \u001b[49m\u001b[43minstance\u001b[49m\u001b[43m,\u001b[49m\n\u001b[32m   1625\u001b[39m \u001b[43m    \u001b[49m\u001b[43mfd\u001b[49m\u001b[43m,\u001b[49m\n\u001b[32m   1626\u001b[39m \u001b[43m    \u001b[49m\u001b[43muri\u001b[49m\u001b[43m=\u001b[49m\u001b[43muri\u001b[49m\u001b[43m,\u001b[49m\n\u001b[32m   1627\u001b[39m \u001b[43m    \u001b[49m\u001b[43mmode\u001b[49m\u001b[43m=\u001b[49m\u001b[43mmode\u001b[49m\u001b[43m,\u001b[49m\n\u001b[32m   1628\u001b[39m \u001b[43m    \u001b[49m\u001b[43mvalidate_checksums\u001b[49m\u001b[43m=\u001b[49m\u001b[43mvalidate_checksums\u001b[49m\u001b[43m,\u001b[49m\n\u001b[32m   1629\u001b[39m \u001b[43m    \u001b[49m\u001b[43mextensions\u001b[49m\u001b[43m=\u001b[49m\u001b[43mextensions\u001b[49m\u001b[43m,\u001b[49m\n\u001b[32m   1630\u001b[39m \u001b[43m    \u001b[49m\u001b[43mlazy_tree\u001b[49m\u001b[43m=\u001b[49m\u001b[43mlazy_tree\u001b[49m\u001b[43m,\u001b[49m\n\u001b[32m   1631\u001b[39m \u001b[43m    \u001b[49m\u001b[43m_get_yaml_content\u001b[49m\u001b[43m=\u001b[49m\u001b[43m_get_yaml_content\u001b[49m\u001b[43m,\u001b[49m\n\u001b[32m   1632\u001b[39m \u001b[43m    \u001b[49m\u001b[43m_force_raw_types\u001b[49m\u001b[43m=\u001b[49m\u001b[43m_force_raw_types\u001b[49m\u001b[43m,\u001b[49m\n\u001b[32m   1633\u001b[39m \u001b[43m    \u001b[49m\u001b[43mstrict_extension_check\u001b[49m\u001b[43m=\u001b[49m\u001b[43mstrict_extension_check\u001b[49m\u001b[43m,\u001b[49m\n\u001b[32m   1634\u001b[39m \u001b[43m    \u001b[49m\u001b[43mignore_missing_extensions\u001b[49m\u001b[43m=\u001b[49m\u001b[43mignore_missing_extensions\u001b[49m\u001b[43m,\u001b[49m\n\u001b[32m   1635\u001b[39m \u001b[43m\u001b[49m\u001b[43m)\u001b[49m\n",
      "\u001b[36mFile \u001b[39m\u001b[32m/opt/anaconda3/envs/roman-data-workshop-env/lib/python3.11/site-packages/asdf/_asdf.py:935\u001b[39m, in \u001b[36mAsdfFile._open_impl\u001b[39m\u001b[34m(cls, self, fd, uri, mode, validate_checksums, extensions, lazy_tree, _get_yaml_content, _force_raw_types, strict_extension_check, ignore_missing_extensions)\u001b[39m\n\u001b[32m    933\u001b[39m generic_file = generic_io.get_file(fd, mode=mode, uri=uri)\n\u001b[32m    934\u001b[39m \u001b[38;5;28;01mtry\u001b[39;00m:\n\u001b[32m--> \u001b[39m\u001b[32m935\u001b[39m     \u001b[38;5;28;01mreturn\u001b[39;00m \u001b[38;5;28;43mcls\u001b[39;49m\u001b[43m.\u001b[49m\u001b[43m_open_asdf\u001b[49m\u001b[43m(\u001b[49m\n\u001b[32m    936\u001b[39m \u001b[43m        \u001b[49m\u001b[38;5;28;43mself\u001b[39;49m\u001b[43m,\u001b[49m\n\u001b[32m    937\u001b[39m \u001b[43m        \u001b[49m\u001b[43mgeneric_file\u001b[49m\u001b[43m,\u001b[49m\n\u001b[32m    938\u001b[39m \u001b[43m        \u001b[49m\u001b[43mvalidate_checksums\u001b[49m\u001b[43m=\u001b[49m\u001b[43mvalidate_checksums\u001b[49m\u001b[43m,\u001b[49m\n\u001b[32m    939\u001b[39m \u001b[43m        \u001b[49m\u001b[43mextensions\u001b[49m\u001b[43m=\u001b[49m\u001b[43mextensions\u001b[49m\u001b[43m,\u001b[49m\n\u001b[32m    940\u001b[39m \u001b[43m        \u001b[49m\u001b[43mlazy_tree\u001b[49m\u001b[43m=\u001b[49m\u001b[43mlazy_tree\u001b[49m\u001b[43m,\u001b[49m\n\u001b[32m    941\u001b[39m \u001b[43m        \u001b[49m\u001b[43m_get_yaml_content\u001b[49m\u001b[43m=\u001b[49m\u001b[43m_get_yaml_content\u001b[49m\u001b[43m,\u001b[49m\n\u001b[32m    942\u001b[39m \u001b[43m        \u001b[49m\u001b[43m_force_raw_types\u001b[49m\u001b[43m=\u001b[49m\u001b[43m_force_raw_types\u001b[49m\u001b[43m,\u001b[49m\n\u001b[32m    943\u001b[39m \u001b[43m        \u001b[49m\u001b[43mstrict_extension_check\u001b[49m\u001b[43m=\u001b[49m\u001b[43mstrict_extension_check\u001b[49m\u001b[43m,\u001b[49m\n\u001b[32m    944\u001b[39m \u001b[43m        \u001b[49m\u001b[43mignore_missing_extensions\u001b[49m\u001b[43m=\u001b[49m\u001b[43mignore_missing_extensions\u001b[49m\u001b[43m,\u001b[49m\n\u001b[32m    945\u001b[39m \u001b[43m    \u001b[49m\u001b[43m)\u001b[49m\n\u001b[32m    946\u001b[39m \u001b[38;5;28;01mexcept\u001b[39;00m \u001b[38;5;167;01mException\u001b[39;00m:\n\u001b[32m    947\u001b[39m     \u001b[38;5;28;01mif\u001b[39;00m close_on_fail:\n",
      "\u001b[36mFile \u001b[39m\u001b[32m/opt/anaconda3/envs/roman-data-workshop-env/lib/python3.11/site-packages/asdf/_asdf.py:895\u001b[39m, in \u001b[36mAsdfFile._open_asdf\u001b[39m\u001b[34m(cls, self, fd, validate_checksums, extensions, lazy_tree, _get_yaml_content, _force_raw_types, strict_extension_check, ignore_missing_extensions)\u001b[39m\n\u001b[32m    893\u001b[39m \u001b[38;5;28;01mif\u001b[39;00m get_config().validate_on_read:\n\u001b[32m    894\u001b[39m     \u001b[38;5;28;01mtry\u001b[39;00m:\n\u001b[32m--> \u001b[39m\u001b[32m895\u001b[39m         \u001b[38;5;28;43mself\u001b[39;49m\u001b[43m.\u001b[49m\u001b[43m_validate\u001b[49m\u001b[43m(\u001b[49m\u001b[43mtree\u001b[49m\u001b[43m,\u001b[49m\u001b[43m \u001b[49m\u001b[43mreading\u001b[49m\u001b[43m=\u001b[49m\u001b[38;5;28;43;01mTrue\u001b[39;49;00m\u001b[43m)\u001b[49m\n\u001b[32m    896\u001b[39m     \u001b[38;5;28;01mexcept\u001b[39;00m ValidationError:\n\u001b[32m    897\u001b[39m         \u001b[38;5;28mself\u001b[39m.close()\n",
      "\u001b[36mFile \u001b[39m\u001b[32m/opt/anaconda3/envs/roman-data-workshop-env/lib/python3.11/site-packages/asdf/_asdf.py:592\u001b[39m, in \u001b[36mAsdfFile._validate\u001b[39m\u001b[34m(self, tree, custom, reading)\u001b[39m\n\u001b[32m    590\u001b[39m \u001b[38;5;66;03m# Perform secondary validation pass if requested\u001b[39;00m\n\u001b[32m    591\u001b[39m \u001b[38;5;28;01mif\u001b[39;00m custom \u001b[38;5;129;01mand\u001b[39;00m \u001b[38;5;28mself\u001b[39m._custom_schema:\n\u001b[32m--> \u001b[39m\u001b[32m592\u001b[39m     \u001b[43mschema\u001b[49m\u001b[43m.\u001b[49m\u001b[43mvalidate\u001b[49m\u001b[43m(\u001b[49m\u001b[43mtagged_tree\u001b[49m\u001b[43m,\u001b[49m\u001b[43m \u001b[49m\u001b[38;5;28;43mself\u001b[39;49m\u001b[43m,\u001b[49m\u001b[43m \u001b[49m\u001b[38;5;28;43mself\u001b[39;49m\u001b[43m.\u001b[49m\u001b[43m_custom_schema\u001b[49m\u001b[43m,\u001b[49m\u001b[43m \u001b[49m\u001b[43mreading\u001b[49m\u001b[43m=\u001b[49m\u001b[43mreading\u001b[49m\u001b[43m)\u001b[49m\n",
      "\u001b[36mFile \u001b[39m\u001b[32m/opt/anaconda3/envs/roman-data-workshop-env/lib/python3.11/site-packages/asdf/schema.py:637\u001b[39m, in \u001b[36mvalidate\u001b[39m\u001b[34m(instance, ctx, schema, validators, reading, *args, **kwargs)\u001b[39m\n\u001b[32m    634\u001b[39m     ctx = AsdfFile()\n\u001b[32m    636\u001b[39m validator = get_validator({} \u001b[38;5;28;01mif\u001b[39;00m schema \u001b[38;5;129;01mis\u001b[39;00m \u001b[38;5;28;01mNone\u001b[39;00m \u001b[38;5;28;01melse\u001b[39;00m schema, ctx, validators, \u001b[38;5;28;01mNone\u001b[39;00m, *args, **kwargs)\n\u001b[32m--> \u001b[39m\u001b[32m637\u001b[39m \u001b[43mvalidator\u001b[49m\u001b[43m.\u001b[49m\u001b[43mvalidate\u001b[49m\u001b[43m(\u001b[49m\u001b[43minstance\u001b[49m\u001b[43m)\u001b[49m\n\u001b[32m    639\u001b[39m additional_validators = [_validate_large_literals]\n\u001b[32m    640\u001b[39m \u001b[38;5;28;01mif\u001b[39;00m ctx.version >= versioning.RESTRICTED_KEYS_MIN_VERSION:\n",
      "\u001b[36mFile \u001b[39m\u001b[32m/opt/anaconda3/envs/roman-data-workshop-env/lib/python3.11/site-packages/asdf/_jsonschema/validators.py:312\u001b[39m, in \u001b[36mcreate.<locals>.Validator.validate\u001b[39m\u001b[34m(self, *args, **kwargs)\u001b[39m\n\u001b[32m    310\u001b[39m \u001b[38;5;28;01mdef\u001b[39;00m\u001b[38;5;250m \u001b[39m\u001b[34mvalidate\u001b[39m(\u001b[38;5;28mself\u001b[39m, *args, **kwargs):\n\u001b[32m    311\u001b[39m     \u001b[38;5;28;01mfor\u001b[39;00m error \u001b[38;5;129;01min\u001b[39;00m \u001b[38;5;28mself\u001b[39m.iter_errors(*args, **kwargs):\n\u001b[32m--> \u001b[39m\u001b[32m312\u001b[39m         \u001b[38;5;28;01mraise\u001b[39;00m error\n",
      "\u001b[31mValidationError\u001b[39m: 'friend' is a required property\n\nFailed validating 'required' in schema:\n    {'$schema': 'http://stsci.edu/schemas/yaml-schema/draft-01',\n     'description': \"Basic info and a picture of Mickie's \\ndog Pluto.\\n\",\n     'properties': {'age': {'properties': {'birthday': {'tag': 'tag:stsci.edu:asdf/time/time-1.1.0',\n                                                        'title': \"Pluto's \"\n                                                                 'first '\n                                                                 'showing'}},\n                            'title': 'The age of Pluto',\n                            'type': 'object'},\n                    'friend': {'title': \"Who is Pluto's friend?\",\n                               'type': 'string'},\n                    'mass': {'tag': 'tag:stsci.edu:asdf/unit/quantity-1.1.0',\n                             'title': 'How much he weighs.'},\n                    'name': {'title': 'Name', 'type': 'string'},\n                    'picture': {'tag': 'tag:stsci.edu:asdf/core/ndarray-1.0.0'}},\n     'required': ['name', 'picture', 'friend'],\n     'title': \"Mickey's pet\",\n     'type': 'object'}\n\nOn instance:\n    {'asdf_library': {'author': 'The ASDF Developers',\n                      'homepage': 'http://github.com/asdf-format/asdf',\n                      'name': 'asdf',\n                      'version': '2.12.0'},\n     'birthday': datetime.date(1930, 8, 17),\n     'history': {'extensions': [{'extension_class': 'asdf.extension.BuiltinExtension',\n                                 'software': {'name': 'asdf',\n                                              'version': '2.12.0'}},\n                                {'extension_class': 'asdf.extension._manifest.ManifestExtension',\n                                 'extension_uri': 'asdf://asdf-format.org/core/extensions/core-1.5.0',\n                                 'software': {'name': 'asdf-astropy',\n                                              'version': '0.2.1'}}]},\n     'mass': {'unit': 'kg', 'value': 10.0},\n     'name': 'Pluto',\n     'picture': {'byteorder': 'little',\n                 'datatype': 'float32',\n                 'shape': [333, 151, 4],\n                 'source': 0}}"
     ]
    }
   ],
   "source": [
    "# Expected validation error\n",
    "afs = asdf.open('pluto.asdf', custom_schema='./pluto-friend-1.0.0.yaml')"
   ]
  },
  {
   "cell_type": "code",
   "execution_count": 20,
   "id": "480ae632",
   "metadata": {},
   "outputs": [],
   "source": [
    "asf = asdf.open('pluto.asdf', mode='rw')\n",
    "asf['friend'] = 'Mickey'\n",
    "#asf.update()\n",
    "asf.write_to('pluto-friend.asdf')"
   ]
  },
  {
   "cell_type": "code",
   "execution_count": 21,
   "id": "d4ee3d87",
   "metadata": {},
   "outputs": [],
   "source": [
    "asf = asdf.open('pluto-friend.asdf', custom_schema='./pluto-friend-1.0.0.yaml')"
   ]
  },
  {
   "cell_type": "code",
   "execution_count": null,
   "id": "19726d02",
   "metadata": {},
   "outputs": [],
   "source": []
  }
 ],
 "metadata": {
  "celltoolbar": "Tags",
  "kernelspec": {
   "display_name": "Python 3 (ipykernel)",
   "language": "python",
   "name": "python3"
  },
  "language_info": {
   "codemirror_mode": {
    "name": "ipython",
    "version": 3
   },
   "file_extension": ".py",
   "mimetype": "text/x-python",
   "name": "python",
   "nbconvert_exporter": "python",
   "pygments_lexer": "ipython3",
   "version": "3.11.0"
  }
 },
 "nbformat": 4,
 "nbformat_minor": 5
}
